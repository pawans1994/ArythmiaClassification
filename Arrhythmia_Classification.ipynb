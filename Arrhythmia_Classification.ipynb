{
 "cells": [
  {
   "cell_type": "markdown",
   "metadata": {
    "colab_type": "text",
    "id": "7rr_9pwF-BXl"
   },
   "source": [
    "# Prediction and Classification of Cardiac Arrhythmia using Machine Learning - Team 21\n",
    "\n",
    "### Automated Learning and Data Analysis - CSC522\n",
    "### Curriculum Project - Spring 2020 \n",
    "### Team Members (Project Team 21):\n",
    "\n",
    "Mangalnathan Vijayagopal - mvijaya2\n",
    "\n",
    "Nishcal Badarinath Kashyap - nkashya\n",
    "\n",
    "Shreyas Chikkballapur Muralidhara - schikkb                        \n",
    "\n",
    "Pawandeep Singh Mendiratta - psmendir"
   ]
  },
  {
   "cell_type": "markdown",
   "metadata": {
    "colab_type": "text",
    "id": "7Mu3nX4v6kiU"
   },
   "source": [
    "## Introduction\n",
    "\n",
    "Most cardiac disorders cause irregularities in heartbeat. These irregular patterns in rhythm of heartbeat is called Arrhythmia. Only with a quick response can the cardiac Arrhythmia be detected in patients at the critical phase. Thereby reducing the complications that might have resulted in late detection. The diagnosis of arrhythmia involves handling of huge amount of ECG data, physicians may not interpret Electrocardiogram for large datasets effectively as it is time consuming and can also cause misclassification of beats. Hence, computer assisted analysis of the ECG data using Supervised Machine Learning can play a huge role as a decision support system to the physicians."
   ]
  },
  {
   "cell_type": "markdown",
   "metadata": {
    "colab_type": "text",
    "id": "8DDRejeN_nGr"
   },
   "source": [
    "## Objective\n",
    "Implementing supervised Machine Learning Algorithms to analyze various features of electrocardiogram(ECG) details of patients. We will use publically available Cardiac Arrhythmia dataset on UCI Machine Learning Repository to develop the classification models.\n",
    " "
   ]
  },
  {
   "cell_type": "markdown",
   "metadata": {
    "colab_type": "text",
    "id": "sGuuiQCNeJVA"
   },
   "source": [
    "## Dataset\n",
    "\n",
    "The cardiac Arrhythmia dataset is acquired from Arrhythmia dataset in UCI repository. In this dataset, the Electrocardiogram (ECG) readings along with physical description of 452 patients. Each patient record is described by 279 attributes - 206 Linear and 73 nominal, with categorial class attribute. There are 16 classes based on value of attributes.Class are as follows:\n",
    "\n",
    "* Class 1 - Normal\n",
    "* Class 2 to 15 - Each class indicating various types of Arrhythmia.\n",
    "* Class 16 - Unknowns\n"
   ]
  },
  {
   "cell_type": "markdown",
   "metadata": {
    "colab_type": "text",
    "id": "_2dNiiGveD3U"
   },
   "source": [
    "## Importing data and Libraries"
   ]
  },
  {
   "cell_type": "code",
   "execution_count": 0,
   "metadata": {
    "colab": {
     "base_uri": "https://localhost:8080/",
     "height": 51
    },
    "colab_type": "code",
    "id": "uHo-l2qs4OkF",
    "outputId": "142dfc1a-49cf-45e5-9055-ec02b7b5520f"
   },
   "outputs": [
    {
     "name": "stderr",
     "output_type": "stream",
     "text": [
      "Using TensorFlow backend.\n"
     ]
    },
    {
     "data": {
      "text/plain": [
       "(452, 280)"
      ]
     },
     "execution_count": 1,
     "metadata": {
      "tags": []
     },
     "output_type": "execute_result"
    }
   ],
   "source": [
    "# Import the necessary libraries to implemnet it.\n",
    "#!pip install tensorflow==1.14.0\n",
    "import numpy as np\n",
    "import pandas as pd\n",
    "import keras\n",
    "import tensorflow as tf\n",
    "import ssl\n",
    "import math\n",
    "import matplotlib.pyplot as plt\n",
    "import operator\n",
    "\n",
    "from collections import defaultdict\n",
    "from sklearn import preprocessing\n",
    "from sklearn.model_selection import train_test_split, KFold\n",
    "from sklearn.impute import SimpleImputer\n",
    "from sklearn.preprocessing import normalize, StandardScaler\n",
    "from sklearn.decomposition import PCA\n",
    "from sklearn.svm import LinearSVC, SVC\n",
    "from sklearn.metrics import confusion_matrix, classification_report, f1_score,accuracy_score\n",
    "from sklearn.feature_selection import SelectFromModel\n",
    "from sklearn.ensemble import RandomForestClassifier\n",
    "\n",
    "from tensorflow.keras.models import Sequential\n",
    "from tensorflow.keras.layers import Dense, Dropout, Flatten, LSTM\n",
    "from tensorflow.keras.layers import Conv1D, MaxPooling1D,BatchNormalization,GlobalMaxPooling1D,MaxPooling1D\n",
    "from keras.regularizers import l2,l1\n",
    "from keras.utils import to_categorical\n",
    "from keras.optimizers import RMSprop, SGD, adam\n",
    "\n",
    "# Import the Arrhythmia dataset from the library and replace missing values by '?'.\n",
    "repo_url = \"https://archive.ics.uci.edu/ml/machine-learning-databases/arrhythmia/arrhythmia.data\"\n",
    "ssl._create_default_https_context = ssl._create_unverified_context\n",
    "df = pd.read_csv(repo_url, delimiter=',', header=None,)\n",
    "\n",
    "# Make sure the data frame has 452 rows along with 280 columns. \n",
    "df.shape"
   ]
  },
  {
   "cell_type": "markdown",
   "metadata": {
    "colab_type": "text",
    "id": "iYn6c8oWihsV"
   },
   "source": [
    "## Data Preprocessing\n",
    "The Data Preprocessing is carried out in 3 steps:\n",
    "1. **Remove unwanted columns** - Deleting the attributes having more than 40% missing values. \n",
    "2. **Replace missing values** - Impute the missing values by replacing them with the attribute median.\n",
    "3. **Attribute Scaling** - Normalize the attributes so that values are scaled up by processing. \n",
    "\n",
    "NOTE: The reason to replace missing attribute values with median instead of mean is to avoid the effect of outliers for attributes with higher standard deviation."
   ]
  },
  {
   "cell_type": "code",
   "execution_count": 0,
   "metadata": {
    "colab": {
     "base_uri": "https://localhost:8080/",
     "height": 34
    },
    "colab_type": "code",
    "id": "Lukhjj8RrxQG",
    "outputId": "946d8f08-717a-4ba4-e87e-8489b417ba4a"
   },
   "outputs": [
    {
     "name": "stdout",
     "output_type": "stream",
     "text": [
      "(452, 278)\n"
     ]
    }
   ],
   "source": [
    "# Split the frame as Data attribute and Class\n",
    "df_data = df.iloc[:,:-1]\n",
    "df_class = df.iloc[:,-1]\n",
    "\n",
    "# Replace ? by NaN\n",
    "df_data = df_data.replace('?', np.NaN)\n",
    "\n",
    "# Remove unwanted columns\n",
    "# Deleting the attributes having more than 40% missing values.\n",
    "thresh = len(df_data) * 0.4\n",
    "df_data.dropna(thresh = thresh, axis = 1, inplace = True)\n",
    "\n",
    "# Replace Missing values \n",
    "# Imputing the remaining missing values with median of the values in the column\n",
    "imp_mean = SimpleImputer(missing_values=np.NaN, strategy='median')\n",
    "imputer = imp_mean.fit(df_data)\n",
    "df_imp = imputer.transform(df_data)\n",
    "df_data = pd.DataFrame(df_imp)\n",
    "\n",
    "# Attribute Scaling\n",
    "# Normalize the values except for the class labels for each attribute using StandardScaler.\n",
    "std_scaler = StandardScaler()\n",
    "x_scaled = std_scaler.fit_transform(df_data.values) \n",
    "df_data = pd.DataFrame(x_scaled, index = df_data.index)\n",
    "\n",
    "print(df_data.shape)"
   ]
  },
  {
   "cell_type": "markdown",
   "metadata": {
    "colab_type": "text",
    "id": "sD3MG_xSdI2E"
   },
   "source": [
    "## Split the data into train, test and validation.\n",
    "\n",
    "Before we proceed further with building the Supervised Machine learning models, we split the model into train and test data.\n",
    "\n",
    "Using the pre processed dataframe as input, the split is as follows:  \n",
    "\n",
    "* Train - 70% - 316 records\n",
    "* Test - 30% - 136 records"
   ]
  },
  {
   "cell_type": "code",
   "execution_count": 0,
   "metadata": {
    "colab": {
     "base_uri": "https://localhost:8080/",
     "height": 34
    },
    "colab_type": "code",
    "id": "96rup9r4hzoV",
    "outputId": "08e6030a-e7e7-4a20-b930-8f177bad2ce0"
   },
   "outputs": [
    {
     "name": "stdout",
     "output_type": "stream",
     "text": [
      "(316, 278) (316,) (136, 278) (136,)\n"
     ]
    }
   ],
   "source": [
    "# Splitting into training and testing data\n",
    "\n",
    "X_train, X_test, Y_train, Y_test = train_test_split(df_data, df_class, test_size=0.3, shuffle = True, stratify = df_class, random_state=43)\n",
    "\n",
    "# Splitting into training and validation data\n",
    "#X_train, X_val, Y_train, Y_val = train_test_split(X_trainval, Y_trainval, test_size=0.2, shuffle = True, stratify = Y_trainval, random_state=43)\n",
    "\n",
    "print(X_train.shape, Y_train.shape, X_test.shape, Y_test.shape)"
   ]
  },
  {
   "cell_type": "markdown",
   "metadata": {
    "colab_type": "text",
    "id": "Ya64uE6aocyq"
   },
   "source": [
    "## Determining the class weights for imbalanced dataset"
   ]
  },
  {
   "cell_type": "code",
   "execution_count": 0,
   "metadata": {
    "colab": {
     "base_uri": "https://localhost:8080/",
     "height": 105
    },
    "colab_type": "code",
    "id": "eQLz5X9VojRa",
    "outputId": "5a576444-053c-4e50-c44c-86f3ad42bade"
   },
   "outputs": [
    {
     "name": "stdout",
     "output_type": "stream",
     "text": [
      "66.48389473526794\n",
      "{1: 0.14215024741340532, 2: 0.7841191066997518, 3: 2.2097902097902096, 4: 2.2097902097902096, 5: 2.700854700854701, 6: 1.4298642533936652, 7: 12.153846153846153, 8: 24.307692307692307, 9: 4.051282051282051, 10: 0.6945054945054945, 14: 8.102564102564102, 15: 6.076923076923077, 16: 1.6205128205128205}\n",
      "[  0 171  31  11  11   9  17   2   1   6  35   0   0   0   3   4  15]\n",
      "[ 0 74 13  4  4  4  8  1  1  3 15  0  0  0  1  1  7]\n"
     ]
    }
   ],
   "source": [
    "from sklearn.utils import class_weight\n",
    "class_wt = class_weight.compute_class_weight('balanced', np.unique(Y_train), Y_train)\n",
    "class_weights = dict(zip([1,2,3,4,5,6,7,8,9,10,14,15,16], class_wt))\n",
    "#class_weights[0] = 0\n",
    "#class_weights[11] = 0\n",
    "#class_weights[12] = 0\n",
    "#class_weights[13] = 0\n",
    "print(class_wt.sum())\n",
    "print(class_weights)\n",
    "\n",
    "print(np.bincount(Y_train))\n",
    "print(np.bincount(Y_test))"
   ]
  },
  {
   "cell_type": "markdown",
   "metadata": {
    "colab_type": "text",
    "id": "h0wp_fVOc0S5"
   },
   "source": [
    "## Feature Selection - Train dataset\n"
   ]
  },
  {
   "cell_type": "markdown",
   "metadata": {
    "colab_type": "text",
    "id": "Lazpb7zzUb1L"
   },
   "source": [
    "  ### Principle Component Analysis (PCA)\n",
    "  Grid search on various number of PCA components to be retained.\n",
    "  \n",
    "  Deciding the number of components to be selected based on the plots of:\n",
    "  * Plot of Eigen values v/s No of components.\n",
    "  * Plot of Percent of cumulative variance v/s No of components.\n",
    "\n",
    "Based on the plots select all the components with eigen value greater than or equal to 1 (Rule of Thumb).\n",
    "\n",
    " "
   ]
  },
  {
   "cell_type": "code",
   "execution_count": 0,
   "metadata": {
    "colab": {
     "base_uri": "https://localhost:8080/",
     "height": 658
    },
    "colab_type": "code",
    "id": "XFDKb-PvdlgM",
    "outputId": "25034ad3-267d-49f7-e105-6e25f6bb771d"
   },
   "outputs": [
    {
     "name": "stdout",
     "output_type": "stream",
     "text": [
      "Components from Feature selection using PCA (Having Eigen values >=1)- 88\n",
      "\n",
      "Feature Selection using PCA complete for the train data.\n",
      "\n",
      "\n"
     ]
    },
    {
     "data": {
      "image/png": "[encoded data removed]",
      "text/plain": [
       "<Figure size 432x288 with 1 Axes>"
      ]
     },
     "metadata": {
      "tags": []
     },
     "output_type": "display_data"
    },
    {
     "data": {
      "image/png": "[encoded data removed]",
      "text/plain": [
       "<Figure size 432x288 with 1 Axes>"
      ]
     },
     "metadata": {
      "tags": []
     },
     "output_type": "display_data"
    }
   ],
   "source": [
    "# Implementation of PCA\n",
    "pca_dict = {}\n",
    "eigen_dict = {}\n",
    "for n_comp in df_data.columns:\n",
    "  pca = PCA(n_components=n_comp)\n",
    "  temp_train_pca = pca.fit_transform(X_train)\n",
    "  temp_test_pca = pca.transform(X_test)\n",
    "  eigen_values = pca.explained_variance_[:n_comp]\n",
    "  \n",
    "  if n_comp > 0:\n",
    "    #print (n_comp,pca.explained_variance_ratio_.sum(),eigen_values)[-1])\n",
    "    pca_dict[n_comp] = pca.explained_variance_ratio_.sum()\n",
    "    eigen_dict[n_comp] = eigen_values[-1]\n",
    "\n",
    "f = plt.figure(1)\n",
    "f.patch.set_facecolor('white')\n",
    "plt.title('PCA Variance')\n",
    "plt.xlabel('Principal Component Number')\n",
    "plt.ylabel('Variance Ratio')\n",
    "plt.plot(list(pca_dict.keys()),list(pca_dict.values()),'r')\n",
    "f.show()\n",
    "\n",
    "g = plt.figure(2)\n",
    "g.patch.set_facecolor('white')\n",
    "plt.title('PCA Eigen value')\n",
    "plt.xlabel('Principal Component Number')\n",
    "plt.ylabel('Eigen Values')\n",
    "plt.plot(list(eigen_dict.keys()),list(eigen_dict.values()),'r')\n",
    "g.show()\n",
    "\n",
    "# Selecting components with Eigen value greater than 1 from the list\n",
    "#pca_comp_eigen = max([key for key,val in eigen_dict.items() if val >= 1])\n",
    "pca_comp_eigen = max([key for key,val in pca_dict.items() if val < 0.95])\n",
    "\n",
    "print('Components from Feature selection using PCA (Having Eigen values >=1)- ' + str(pca_comp_eigen) + '\\n')\n",
    "\n",
    "# Performing PCA for the train data with the fixed components\n",
    "pca = PCA(n_components=pca_comp_eigen)\n",
    "X_train_pca = pca.fit_transform(X_train)\n",
    "X_test_pca = pca.transform(X_test)\n",
    "print('Feature Selection using PCA complete for the train data.\\n\\n')"
   ]
  },
  {
   "cell_type": "markdown",
   "metadata": {
    "colab_type": "text",
    "id": "XDyhO5YXUjxN"
   },
   "source": [
    "### Random Forest Classifier\n",
    "\n",
    "This model works on a portion of training dataset by continuously sampling with replacement. Then fitting a decision tree to the model. Each decision tree is a sequence of yes-no questions based on a single or combination of features. All the features are not considered by the tree, which conirms that individual decision trees are not corelated. Hence the classifier less prone to overfitting.\n",
    "\n",
    "The measure of impurity is by Gini index .\n"
   ]
  },
  {
   "cell_type": "code",
   "execution_count": 0,
   "metadata": {
    "colab": {
     "base_uri": "https://localhost:8080/",
     "height": 51
    },
    "colab_type": "code",
    "id": "_6plv8F9duIY",
    "outputId": "75037063-264f-4c1b-faa8-0497cd081bf6"
   },
   "outputs": [
    {
     "name": "stdout",
     "output_type": "stream",
     "text": [
      "Components from Feature Selection using Random Forest Classifier -  99\n",
      "99 99\n"
     ]
    }
   ],
   "source": [
    "# Implementation for Random forest\n",
    "rfc = SelectFromModel(RandomForestClassifier(n_estimators = 20, random_state=0, n_jobs = -1))\n",
    "rfc.fit(X_train, Y_train)\n",
    "\n",
    "rfc_comp = X_train.columns[(rfc.get_support())]\n",
    "print(\"Components from Feature Selection using Random Forest Classifier - \",len(rfc_comp))\n",
    "\n",
    "# Transform the model to contain only the new data.\n",
    "X_train_rfc= rfc.transform(X_train)\n",
    "X_test_rfc = rfc.transform(X_test)\n",
    "# Confirm that the transformed model has reduced components only\n",
    "print(len(X_train_rfc[0]), len(X_test_rfc[0]))"
   ]
  },
  {
   "cell_type": "markdown",
   "metadata": {
    "colab_type": "text",
    "id": "xr_km588KDUr"
   },
   "source": [
    "### Support Vector Machines\n",
    "\n",
    "Support Vector Machines(SVM) is a supervised machine learning algorithm used for classification, clustering and regression.\n",
    "\n",
    "An SVM model is a representation of the examples as points in space, mapped so that the examples of the separate categories are divided by a clear gap that is as wide as possible.New examples are then mapped into that same space and predicted to belong to a category based on the side of the gap on which they fall.\n",
    "\n",
    "Below is the implementaion of SVM by tuning the model on hyperparameters:  \n",
    "* Kernal type - linear, rbf, poly and sigmoid.\n",
    "* Scale of regularization parameters - 10^-3, 10^-2, 10^-1, 10^0, 10^1, 10^2, 10^3.\n",
    "\n",
    "\n",
    "### **SVM implementation using PCA** :\n",
    "Below is the SVM model implementations of different types of SVM (linear, rbf and kernel) for classification of arrhythmia for the features selected by Principal Component Analysis (PCA). We will be comparing the accuracy scores of these SVM types to decide which one is better."
   ]
  },
  {
   "cell_type": "code",
   "execution_count": 0,
   "metadata": {
    "colab": {
     "base_uri": "https://localhost:8080/",
     "height": 488
    },
    "colab_type": "code",
    "id": "6HgaNKxUjbbY",
    "outputId": "0434548f-effb-47ac-8d18-9793193ad212"
   },
   "outputs": [
    {
     "name": "stdout",
     "output_type": "stream",
     "text": [
      "SVM Accuracies - PCA: \n",
      "Linear kernal has maximum accuracy - 0.7353 for critical factor 0.01\n",
      "\n",
      "Radial Basis Function Kernel SVM accuracy - 0.6618 for critical factor 100\n",
      "\n",
      "Polynomial Kernel SVM has maximum accuracy - 0.6838 for critical factor 1000\n",
      "\n",
      "Sigmoid Kernel SVM has maximum accuracy - 0.6985 for critical factor 1\n",
      "\n",
      "\n"
     ]
    },
    {
     "data": {
      "image/png": "[encoded data removed]",
      "text/plain": [
       "<Figure size 432x288 with 1 Axes>"
      ]
     },
     "metadata": {
      "tags": []
     },
     "output_type": "display_data"
    }
   ],
   "source": [
    "# Hyperaeter tuning on regularization parameter and kernal for SVM\n",
    "c_list = [0.001, 0.01, 0.1, 1, 10, 100, 1000]\n",
    "kernals = ['linear','rbf','poly','sigmoid']\n",
    "\n",
    "pca_accuracy = {'linear':[], 'rbf':[], 'poly':[], 'sigmoid':[]}\n",
    "#pca_f1_score = {'linear':[], 'rbf':[], 'poly':[], 'sigmoid':[]} \n",
    "\n",
    "for kernal in kernals:\n",
    "  for cval in c_list:\n",
    "    \n",
    "    clf = SVC(max_iter=100000, kernel=kernal, C=cval)\n",
    "\n",
    "    clf.fit(X_train_pca, Y_train)\n",
    "    pca_accuracy[kernal].append(clf.score(X_test_pca, Y_test))\n",
    "    yPred = clf.predict(X_test_pca)\n",
    "    #pca_f1_score[kernal].append(f1_score(Y_test, yPred, average='weighted'))\n",
    "\n",
    "    del clf\n",
    "    del yPred\n",
    "\n",
    "print('SVM Accuracies - PCA: ')\n",
    "print('Linear kernal has maximum accuracy - '+ str(round(max(pca_accuracy['linear']),4)) + ' for critical factor ' + str(c_list[pca_accuracy['linear'].index(max(pca_accuracy['linear']))]) )\n",
    "print('\\nRadial Basis Function Kernel SVM accuracy - '+ str(round(max(pca_accuracy['rbf']),4)) + ' for critical factor ' + str(c_list[pca_accuracy['rbf'].index(max(pca_accuracy['rbf']))]) )\n",
    "print('\\nPolynomial Kernel SVM has maximum accuracy - ' + str(round(max(pca_accuracy['poly']),4)) + ' for critical factor ' + str(c_list[pca_accuracy['poly'].index(max(pca_accuracy['poly']))]))\n",
    "print('\\nSigmoid Kernel SVM has maximum accuracy - ' + str(round(max(pca_accuracy['sigmoid']),4)) + ' for critical factor ' + str(c_list[pca_accuracy['sigmoid'].index(max(pca_accuracy['sigmoid']))]) +'\\n\\n')\n",
    "\n",
    "# Plot the Accuracy with C values\n",
    "fig = plt.figure(1)\n",
    "fig.patch.set_facecolor('white')\n",
    "plt.xscale('log')\n",
    "plt.title('Kernel SVM (Principle Component Analysis)')\n",
    "plt.xlabel('Critical Factor')\n",
    "plt.ylabel('Model Accuracy')\n",
    "plt.plot(c_list, pca_accuracy['linear'], 'r', label = 'Linear')\n",
    "plt.plot(c_list, pca_accuracy['rbf'], 'g', label = 'Radial Basis')\n",
    "plt.plot(c_list, pca_accuracy['poly'], 'b', label = 'Polynomial')\n",
    "plt.plot(c_list, pca_accuracy['sigmoid'], 'y', label = 'Sigmoid')\n",
    "plt.legend(bbox_to_anchor = (0., 1.02, 1., .202), loc = 10, ncol=4, borderaxespad = 0)\n",
    "fig.show()\n",
    "\n"
   ]
  },
  {
   "cell_type": "markdown",
   "metadata": {
    "colab_type": "text",
    "id": "fEVOdGWtUvwy"
   },
   "source": [
    "####**SVM implementation using Random Forest Classifier**\n",
    "Below is the SVM model implementations of different types of SVM (linear, rbf and kernel) for classification of arrhythmia for the features selected by Random Forests. We will be comparing the accuracy scores of these SVM types to decide which one is better."
   ]
  },
  {
   "cell_type": "code",
   "execution_count": 0,
   "metadata": {
    "colab": {
     "base_uri": "https://localhost:8080/",
     "height": 488
    },
    "colab_type": "code",
    "id": "FvKeZl5ZV6rz",
    "outputId": "a4a478cb-c06d-498a-aa33-38708b87116c"
   },
   "outputs": [
    {
     "name": "stdout",
     "output_type": "stream",
     "text": [
      "SVM Accuracies - Random Forest Classifier: \n",
      "Linear kernal has maximum accuracy - 0.7353 for critical factor 0.1\n",
      "\n",
      "Radial Basis Function Kernel SVM accuracy - 0.7132 for critical factor 10\n",
      "\n",
      "Polynomial Kernel SVM has maximum accuracy - 0.6765 for critical factor 10\n",
      "\n",
      "Sigmoid Kernel SVM has maximum accuracy - 0.6985 for critical factor 1\n",
      "\n",
      "\n"
     ]
    },
    {
     "data": {
      "image/png": "[encoded data removed]",
      "text/plain": [
       "<Figure size 432x288 with 1 Axes>"
      ]
     },
     "metadata": {
      "tags": []
     },
     "output_type": "display_data"
    }
   ],
   "source": [
    "# Hyperaeter tuning on regularization parameter and kernal for SVM\n",
    "c_list = [0.001, 0.01, 0.1, 1, 10, 100, 1000]\n",
    "kernals = ['linear','rbf','poly','sigmoid']\n",
    "\n",
    "rfc_accuracy = {'linear':[], 'rbf':[], 'poly':[], 'sigmoid':[]}\n",
    "#rfc_f1_score = {'linear':[], 'rbf':[], 'poly':[], 'sigmoid':[]} \n",
    "\n",
    "for kernal in kernals:\n",
    "  for cval in c_list:\n",
    "    \n",
    "    clf = SVC(max_iter=100000, kernel=kernal, C=cval)\n",
    "\n",
    "    clf.fit(X_train_rfc, Y_train)\n",
    "    rfc_accuracy[kernal].append(clf.score(X_test_rfc, Y_test))\n",
    "    yPred = clf.predict(X_test_rfc)\n",
    "    #pca_f1_score[kernal].append(f1_score(Y_test, yPred, average='weighted'))\n",
    "\n",
    "    del clf\n",
    "    del yPred\n",
    "\n",
    "print('SVM Accuracies - Random Forest Classifier: ')\n",
    "print('Linear kernal has maximum accuracy - '+ str(round(max(rfc_accuracy['linear']),4)) + ' for critical factor ' + str(c_list[rfc_accuracy['linear'].index(max(rfc_accuracy['linear']))]) )\n",
    "print('\\nRadial Basis Function Kernel SVM accuracy - '+ str(round(max(rfc_accuracy['rbf']),4)) + ' for critical factor ' + str(c_list[rfc_accuracy['rbf'].index(max(rfc_accuracy['rbf']))]) )\n",
    "print('\\nPolynomial Kernel SVM has maximum accuracy - ' + str(round(max(rfc_accuracy['poly']),4)) + ' for critical factor ' + str(c_list[rfc_accuracy['poly'].index(max(rfc_accuracy['poly']))]))\n",
    "print('\\nSigmoid Kernel SVM has maximum accuracy - ' + str(round(max(rfc_accuracy['sigmoid']),4)) + ' for critical factor ' + str(c_list[rfc_accuracy['sigmoid'].index(max(rfc_accuracy['sigmoid']))]) +'\\n\\n')\n",
    "\n",
    "# Plot the Accuracy with C values\n",
    "fig = plt.figure(1)\n",
    "fig.patch.set_facecolor('white')\n",
    "plt.xscale('log')\n",
    "plt.title('Kernal SVM (Random Forest Classifier)')\n",
    "plt.xlabel('Critical Factor')\n",
    "plt.ylabel('Model Accuracy')\n",
    "plt.plot(c_list, rfc_accuracy['linear'], 'r', label = 'Linear')\n",
    "plt.plot(c_list, rfc_accuracy['rbf'], 'g', label = 'Radial Basis')\n",
    "plt.plot(c_list, rfc_accuracy['poly'], 'b', label = 'Polynomial')\n",
    "plt.plot(c_list, rfc_accuracy['sigmoid'], 'y', label = 'Sigmoid')\n",
    "plt.legend(bbox_to_anchor = (0., 1.02, 1., .202), loc = 10, ncol=4, borderaxespad = 0)\n",
    "fig.show()"
   ]
  },
  {
   "cell_type": "markdown",
   "metadata": {
    "colab_type": "text",
    "id": "HFv4Wmrja0Tw"
   },
   "source": [
    "### Best SVM model\n",
    "\n",
    "Feature Selection - PCA and Random forest - equally good  \n",
    "SVM Kernel - Linear SVM  \n",
    "Regularization parameter - 10^-1"
   ]
  },
  {
   "cell_type": "code",
   "execution_count": 0,
   "metadata": {
    "colab": {
     "base_uri": "https://localhost:8080/",
     "height": 445
    },
    "colab_type": "code",
    "id": "Q8Et8-5Jd50P",
    "outputId": "3a5b1712-952e-431d-caad-09552cccd716"
   },
   "outputs": [
    {
     "name": "stdout",
     "output_type": "stream",
     "text": [
      "Accuracy for SVM - Linear Kernal -  0.7353\n",
      "\n",
      "               precision    recall  f1-score   support\n",
      "\n",
      "           1       0.70      0.96      0.81        74\n",
      "           2       0.75      0.69      0.72        13\n",
      "           3       1.00      1.00      1.00         4\n",
      "           4       0.60      0.75      0.67         4\n",
      "           5       1.00      0.25      0.40         4\n",
      "           6       0.00      0.00      0.00         8\n",
      "           7       0.00      0.00      0.00         1\n",
      "           8       0.00      0.00      0.00         1\n",
      "           9       1.00      0.67      0.80         3\n",
      "          10       1.00      0.67      0.80        15\n",
      "          14       0.00      0.00      0.00         1\n",
      "          15       0.00      0.00      0.00         1\n",
      "          16       0.00      0.00      0.00         7\n",
      "\n",
      "    accuracy                           0.74       136\n",
      "   macro avg       0.47      0.38      0.40       136\n",
      "weighted avg       0.66      0.74      0.68       136\n",
      "\n"
     ]
    },
    {
     "name": "stderr",
     "output_type": "stream",
     "text": [
      "/usr/local/lib/python3.6/dist-packages/sklearn/metrics/_classification.py:1272: UndefinedMetricWarning: Precision and F-score are ill-defined and being set to 0.0 in labels with no predicted samples. Use `zero_division` parameter to control this behavior.\n",
      "  _warn_prf(average, modifier, msg_start, len(result))\n"
     ]
    }
   ],
   "source": [
    "#Assign the best values for the SVM parameter\n",
    "clf = SVC(max_iter=100000, kernel='linear', C=0.01)\n",
    "\n",
    "clf.fit(X_train_pca, Y_train)\n",
    "\n",
    "yPred_svm = clf.predict(X_test_pca)\n",
    "\n",
    "acc = accuracy_score(yPred_svm,Y_test)\n",
    "print('Accuracy for SVM - Linear Kernal - ',round(acc,4))\n",
    "\n",
    "result = classification_report(Y_test, yPred_svm)\n",
    "print(\"\\n\",result)"
   ]
  },
  {
   "cell_type": "markdown",
   "metadata": {
    "colab_type": "text",
    "id": "x4-jm3tDWfXX"
   },
   "source": [
    "### KNN implementation using Euclidean distance\n",
    "K Nearest Neighbours is simple approach to of classification where each object is classified based majority class of its k nearest neighbours. Identifying the nearest neighbours is done by finding the distance between the a node with respect to all its neighbours using **Euclidean distance**.  \n",
    "\n",
    "Since kNN is sensitive to irrelevant and redundant features, we will considering the Feature selection dataframes to train and test the kNN model. We have split the data as test and train befor feature selection and we cannout use kfold validation with kNN.\n",
    "\n",
    "In kNN hyperparameter to be tuned is **k value of neighbours**. The result from model displays the accuracy with different values to k.  \n",
    "\n",
    "Below is kNN method from scratch without the standard libraries."
   ]
  },
  {
   "cell_type": "code",
   "execution_count": 0,
   "metadata": {
    "colab": {},
    "colab_type": "code",
    "id": "ZwIkiRk9tix6"
   },
   "outputs": [],
   "source": [
    "# kNN with Euclidean distance returns distance between \n",
    "def knn(testdata,k,post_train_array,class_array):\n",
    "  dictionary = {}\n",
    "  \n",
    "  # Using Euclidean distance to compute the distance between the 2 vectors.\n",
    "  for cnt,i in enumerate(post_train_array):\n",
    "    c = math.sqrt(sum([(i[val] - testdata[val])**2 for val in range(len(i))]))\n",
    "    dictionary[cnt] = [c,class_array[cnt]]\n",
    "  \n",
    "  \n",
    "\n",
    "  # Sorting the counts in decreaing order and selecting the top k values from the list\n",
    "  sorted_d = sorted(dictionary.items(), key=lambda x: x[1])\n",
    "  required = sorted_d[0:k]\n",
    "  preddic = {}\n",
    "  for i in required:\n",
    "    j = i\n",
    "    class_values = j[1][1]\n",
    "    if j[1][1] not in preddic:\n",
    "      preddic[class_values] = 1\n",
    "    else:\n",
    "      preddic[class_values] += 1\n",
    "\n",
    "  #identifying the majority class fromm the selected k values and return class variables.\n",
    "  sorted_d = sorted(preddic.items(), key=operator.itemgetter(1))\n",
    "  sorted_d = sorted_d[::-1]\n",
    "  return sorted_d[0][0]\n",
    "\n",
    "\n",
    "# Hyperparameter tuning for k neighbours\n",
    "def kNN_k_tuning(feature,hyperparameter):\n",
    "  plot_x = []\n",
    "  plot_y = []\n",
    "  \n",
    "  kfoldval = 7\n",
    "  kfdata = KFold(n_splits=kfoldval, shuffle = True)\n",
    "  print(kfoldval,' fold kNN Cross validation Implementation for ',feature,'\\n')\n",
    "\n",
    "  # Compute the kNN for odd-k ranging between 1 - 11 \n",
    "  for k in range(1,13,2):\n",
    "\n",
    "    total_accuracy = 0\n",
    "    for j,i in enumerate(kfdata.split(df_data)):\n",
    "      X_train = np.array(df_data)[i[0]]\n",
    "      X_test = np.array(df_data)[i[1]]\n",
    "      X_train, X_test = pd.DataFrame(X_train),pd.DataFrame(X_test)\n",
    "\n",
    "      Y_train = np.array(df_class)[i[0]]\n",
    "      Y_test = np.array(df_class)[i[1]]\n",
    "      Y_train, Y_test = pd.Series(Y_train),pd.Series(Y_test)\n",
    "\n",
    "      class_array = Y_train.values\n",
    "      test_array = Y_test.values\n",
    "\n",
    "      if feature =='Random Forest':\n",
    "        rfc = SelectFromModel(RandomForestClassifier(n_estimators = hyperparameter, random_state=0, n_jobs = -1))\n",
    "        rfc.fit(X_train, Y_train)\n",
    "        rfc_comp = X_train.columns[(rfc.get_support())]\n",
    "        post_train_array= rfc.transform(X_train)\n",
    "        post_test_array = rfc.transform(X_test) \n",
    "\n",
    "      elif feature =='PCA':\n",
    "        \n",
    "        pca = PCA(n_components=hyperparameter)\n",
    "        post_train_array = pca.fit_transform(X_train)\n",
    "        post_test_array = pca.transform(X_test)\n",
    "\n",
    "      accuracy_count = 0\n",
    "      new_count = 0  \n",
    "    \n",
    "      for i in post_test_array:\n",
    "        m = knn(i,k,post_train_array,class_array)\n",
    "        if m==test_array[new_count]:\n",
    "          accuracy_count+=1\n",
    "        new_count += 1\n",
    "      \n",
    "      percentage = accuracy_count/len(test_array)\n",
    "      total_accuracy += percentage\n",
    "\n",
    "    plot_x.append(k)\n",
    "    plot_y.append(total_accuracy*100/kfoldval)\n",
    "    print(\"\")\n",
    "    print(\"kNN Accuracy with \", feature,\" for k -\",k,\" is \",str(round(total_accuracy*100/kfoldval,4)))\n",
    "    \n",
    "  fig = plt.figure(1)\n",
    "  fig.patch.set_facecolor('white')\n",
    "  plt.title('Accuracy of 7 fold kNN using '+ feature)\n",
    "  plt.xlabel('Values for K')\n",
    "  plt.ylabel('Model Accuracy')\n",
    "  plt.plot(plot_x, plot_y,'b')\n",
    "  fig.show()"
   ]
  },
  {
   "cell_type": "markdown",
   "metadata": {
    "colab_type": "text",
    "id": "G0BsWWQl0H7S"
   },
   "source": [
    "### kNN classification with PCA"
   ]
  },
  {
   "cell_type": "code",
   "execution_count": 0,
   "metadata": {
    "colab": {
     "base_uri": "https://localhost:8080/",
     "height": 533
    },
    "colab_type": "code",
    "id": "JzsJyoAM74kY",
    "outputId": "e81b13da-d9ed-4e6a-b302-699ad6070fd0"
   },
   "outputs": [
    {
     "name": "stdout",
     "output_type": "stream",
     "text": [
      "7  fold kNN Cross validation Implementation for  PCA \n",
      "\n",
      "\n",
      "kNN Accuracy with  PCA  for k - 1  is  56.8441\n",
      "\n",
      "kNN Accuracy with  PCA  for k - 3  is  59.9451\n",
      "\n",
      "kNN Accuracy with  PCA  for k - 5  is  61.2637\n",
      "\n",
      "kNN Accuracy with  PCA  for k - 7  is  58.8462\n",
      "\n",
      "kNN Accuracy with  PCA  for k - 9  is  59.296\n",
      "\n",
      "kNN Accuracy with  PCA  for k - 11  is  58.1937\n"
     ]
    },
    {
     "data": {
      "image/png": "[encoded data removed]",
      "text/plain": [
       "<Figure size 432x288 with 1 Axes>"
      ]
     },
     "metadata": {
      "tags": []
     },
     "output_type": "display_data"
    }
   ],
   "source": [
    "n_comp = 49\n",
    "kNN_k_tuning('PCA',n_comp)"
   ]
  },
  {
   "cell_type": "markdown",
   "metadata": {
    "colab_type": "text",
    "id": "p4RjnigJM0b6"
   },
   "source": [
    "### kNN classification using Random Forest"
   ]
  },
  {
   "cell_type": "code",
   "execution_count": 0,
   "metadata": {
    "colab": {
     "base_uri": "https://localhost:8080/",
     "height": 533
    },
    "colab_type": "code",
    "id": "SSe6-ei8MzWe",
    "outputId": "27ff9424-6796-4958-96be-e502c72fdb0f"
   },
   "outputs": [
    {
     "name": "stdout",
     "output_type": "stream",
     "text": [
      "7  fold kNN Cross validation Implementation for  Random Forest \n",
      "\n",
      "\n",
      "kNN Accuracy with  Random Forest  for k - 1  is  59.9416\n",
      "\n",
      "kNN Accuracy with  Random Forest  for k - 3  is  65.4945\n",
      "\n",
      "kNN Accuracy with  Random Forest  for k - 5  is  64.1861\n",
      "\n",
      "kNN Accuracy with  Random Forest  for k - 7  is  62.6133\n",
      "\n",
      "kNN Accuracy with  Random Forest  for k - 9  is  62.8297\n",
      "\n",
      "kNN Accuracy with  Random Forest  for k - 11  is  63.5165\n"
     ]
    },
    {
     "data": {
      "image/png": "[encoded data removed]",
      "text/plain": [
       "<Figure size 432x288 with 1 Axes>"
      ]
     },
     "metadata": {
      "tags": []
     },
     "output_type": "display_data"
    }
   ],
   "source": [
    "n_estimators = 20\n",
    "kNN_k_tuning('Random Forest',n_estimators)"
   ]
  },
  {
   "cell_type": "markdown",
   "metadata": {
    "colab_type": "text",
    "id": "HoQrKzL-mUxF"
   },
   "source": [
    "#### Best model Kfold - KNN Implementation"
   ]
  },
  {
   "cell_type": "markdown",
   "metadata": {
    "colab_type": "text",
    "id": "qq---AQ_kHL9"
   },
   "source": [
    "## 1D CNN Classification"
   ]
  },
  {
   "cell_type": "markdown",
   "metadata": {
    "colab_type": "text",
    "id": "0E6iUiVY-Mob"
   },
   "source": [
    "#### mounting the drive"
   ]
  },
  {
   "cell_type": "code",
   "execution_count": 0,
   "metadata": {
    "colab": {
     "base_uri": "https://localhost:8080/",
     "height": 120
    },
    "colab_type": "code",
    "id": "3YurbbvT-LsP",
    "outputId": "ddf536a0-dc83-47a4-911f-59f409010ed0"
   },
   "outputs": [
    {
     "name": "stdout",
     "output_type": "stream",
     "text": [
      "Go to this URL in a browser: https://accounts.google.com/o/oauth2/auth?client_id=947318989803-6bn6qk8qdgf4n4g3pfee6491hc0brc4i.apps.googleusercontent.com&redirect_uri=urn%3aietf%3awg%3aoauth%3a2.0%3aoob&response_type=code&scope=email%20https%3a%2f%2fwww.googleapis.com%2fauth%2fdocs.test%20https%3a%2f%2fwww.googleapis.com%2fauth%2fdrive%20https%3a%2f%2fwww.googleapis.com%2fauth%2fdrive.photos.readonly%20https%3a%2f%2fwww.googleapis.com%2fauth%2fpeopleapi.readonly\n",
      "\n",
      "Enter your authorization code:\n",
      "··········\n",
      "Mounted at /content/drive\n"
     ]
    }
   ],
   "source": [
    "from google.colab import drive\n",
    "drive.mount('/content/drive')"
   ]
  },
  {
   "cell_type": "code",
   "execution_count": 0,
   "metadata": {
    "colab": {
     "base_uri": "https://localhost:8080/",
     "height": 100
    },
    "colab_type": "code",
    "id": "GN9HYW8hkG2q",
    "outputId": "24474bf3-2a74-4d9a-938e-9f0b84804c89"
   },
   "outputs": [
    {
     "name": "stdout",
     "output_type": "stream",
     "text": [
      "(316, 278, 1) (316, 17) (136, 278, 1) (136, 17)\n",
      "[  0 171  31  11  11   9  17   2   1   6  35   0   0   0   3   4  15]\n",
      "[ 0 74 13  4  4  4  8  1  1  3 15  0  0  0  1  1  7]\n",
      "[  0 130  25   9   9   7  13   2   1   6  31   0   0   0   2   4  13]\n",
      "[ 0 41  6  2  2  2  4  0  0  0  4  0  0  0  1  0  2]\n"
     ]
    }
   ],
   "source": [
    "# Split the data into train and validation\n",
    "X_train_cnn, X_val_cnn, Y_train_cnn, Y_val_cnn = train_test_split(X_train, Y_train, test_size=0.2,  random_state=0)\n",
    "\n",
    "Xtrain = np.expand_dims(X_train, 2)\n",
    "Ytrain = to_categorical(Y_train)\n",
    "Xval = np.expand_dims(X_test, 2)\n",
    "Yval = to_categorical(Y_test)\n",
    "print(Xtrain.shape,Ytrain.shape,Xval.shape,Yval.shape)\n",
    "\n",
    "print(np.bincount(Y_train))\n",
    "print(np.bincount(Y_test))\n",
    "print(np.bincount(Y_train_cnn))\n",
    "print(np.bincount(Y_val_cnn))"
   ]
  },
  {
   "cell_type": "markdown",
   "metadata": {
    "colab_type": "text",
    "id": "O9bZAYWUtDmA"
   },
   "source": [
    "#### Determining class weights for imbalanced dataset"
   ]
  },
  {
   "cell_type": "code",
   "execution_count": 0,
   "metadata": {
    "colab": {
     "base_uri": "https://localhost:8080/",
     "height": 70
    },
    "colab_type": "code",
    "id": "0z3RqKCXtDMg",
    "outputId": "dd00c328-9f5c-4cb9-db20-ad953744727c"
   },
   "outputs": [
    {
     "name": "stdout",
     "output_type": "stream",
     "text": [
      "66.48389473526794\n",
      "{1: 0.14215024741340532, 2: 0.7841191066997518, 3: 2.2097902097902096, 4: 2.2097902097902096, 5: 2.700854700854701, 6: 1.4298642533936652, 7: 12.153846153846153, 8: 24.307692307692307, 9: 4.051282051282051, 10: 0.6945054945054945, 14: 8.102564102564102, 15: 6.076923076923077, 16: 1.6205128205128205, 0: 0, 11: 0, 12: 0, 13: 0}\n"
     ]
    }
   ],
   "source": [
    "from sklearn.utils import class_weight\n",
    "class_weights = class_weight.compute_class_weight('balanced', np.unique(Y_train), Y_train)\n",
    "class_weights_dict = dict(zip([1,2,3,4,5,6,7,8,9,10,14,15,16], class_weights))\n",
    "class_weights_dict[0] = 0\n",
    "class_weights_dict[11] = 0\n",
    "class_weights_dict[12] = 0\n",
    "class_weights_dict[13] = 0\n",
    "print(class_weights.sum())\n",
    "print(class_weights_dict)"
   ]
  },
  {
   "cell_type": "markdown",
   "metadata": {
    "colab_type": "text",
    "id": "U3bnEB3kdSZv"
   },
   "source": [
    "### delete model h5 files if experiment useless"
   ]
  },
  {
   "cell_type": "code",
   "execution_count": 0,
   "metadata": {
    "colab": {},
    "colab_type": "code",
    "id": "ZCIue9nTdKQx"
   },
   "outputs": [],
   "source": [
    "!rm *.h5;"
   ]
  },
  {
   "cell_type": "markdown",
   "metadata": {
    "colab_type": "text",
    "id": "q3C4hkHJBF2o"
   },
   "source": [
    "#### Defining Weighted 1D CNN model"
   ]
  },
  {
   "cell_type": "code",
   "execution_count": 0,
   "metadata": {
    "colab": {
     "base_uri": "https://localhost:8080/",
     "height": 383
    },
    "colab_type": "code",
    "id": "LkFfkxLkeolm",
    "outputId": "1f9a449a-5834-4d17-866c-fb992ac55d60"
   },
   "outputs": [
    {
     "name": "stdout",
     "output_type": "stream",
     "text": [
      "Model: \"sequential_2\"\n",
      "_________________________________________________________________\n",
      "Layer (type)                 Output Shape              Param #   \n",
      "=================================================================\n",
      "conv1d_4 (Conv1D)            (None, 269, 64)           704       \n",
      "_________________________________________________________________\n",
      "conv1d_5 (Conv1D)            (None, 260, 128)          82048     \n",
      "_________________________________________________________________\n",
      "dropout_2 (Dropout)          (None, 260, 128)          0         \n",
      "_________________________________________________________________\n",
      "flatten_2 (Flatten)          (None, 33280)             0         \n",
      "_________________________________________________________________\n",
      "dense_6 (Dense)              (None, 128)               4259968   \n",
      "_________________________________________________________________\n",
      "dense_7 (Dense)              (None, 64)                8256      \n",
      "_________________________________________________________________\n",
      "dense_8 (Dense)              (None, 17)                1105      \n",
      "=================================================================\n",
      "Total params: 4,352,081\n",
      "Trainable params: 4,352,081\n",
      "Non-trainable params: 0\n",
      "_________________________________________________________________\n"
     ]
    }
   ],
   "source": [
    "#model\n",
    "model = Sequential()\n",
    "\n",
    "model.add(Conv1D(filters=64, kernel_size=10,activation='relu',kernel_initializer='he_uniform', input_shape=(278,1)))\n",
    "model.add(Conv1D(filters=128, kernel_size=10,activation='relu',kernel_initializer='he_uniform'))\n",
    "model.add(Dropout(0.3))\n",
    "model.add(Flatten())\n",
    "model.add(Dense(128, activation='relu'))\n",
    "model.add(Dense(64, activation='relu'))\n",
    "model.add(Dense(17, activation='softmax'))\n",
    "model.compile(loss='categorical_crossentropy', optimizer='adam', metrics=['accuracy'])\n",
    "\n",
    "model.summary()\n"
   ]
  },
  {
   "cell_type": "markdown",
   "metadata": {
    "colab_type": "text",
    "id": "coPw3NZ54_18"
   },
   "source": [
    "#### train the model and save best validation accuracy checkpoint"
   ]
  },
  {
   "cell_type": "code",
   "execution_count": 0,
   "metadata": {
    "colab": {
     "base_uri": "https://localhost:8080/",
     "height": 1000
    },
    "colab_type": "code",
    "id": "8ZA0RPeVudyb",
    "outputId": "d3b66621-299e-4489-82b7-9d194a97ef66"
   },
   "outputs": [
    {
     "name": "stdout",
     "output_type": "stream",
     "text": [
      "Epoch 1/20\n",
      "20/20 [==============================] - ETA: 0s - loss: 4.0992 - accuracy: 0.1994\n",
      "Epoch 00001: val_accuracy improved from -inf to 0.51471, saving model to model-epoch-001-valacc-0.514706.h5\n",
      "20/20 [==============================] - 2s 103ms/step - loss: 4.0992 - accuracy: 0.1994 - val_loss: 2.6113 - val_accuracy: 0.5147\n",
      "Epoch 2/20\n",
      "20/20 [==============================] - ETA: 0s - loss: 2.0121 - accuracy: 0.6139\n",
      "Epoch 00002: val_accuracy did not improve from 0.51471\n",
      "20/20 [==============================] - 2s 94ms/step - loss: 2.0121 - accuracy: 0.6139 - val_loss: 2.0967 - val_accuracy: 0.2794\n",
      "Epoch 3/20\n",
      "20/20 [==============================] - ETA: 0s - loss: 0.9706 - accuracy: 0.5538\n",
      "Epoch 00003: val_accuracy did not improve from 0.51471\n",
      "20/20 [==============================] - 2s 92ms/step - loss: 0.9706 - accuracy: 0.5538 - val_loss: 2.1444 - val_accuracy: 0.4118\n",
      "Epoch 4/20\n",
      "20/20 [==============================] - ETA: 0s - loss: 0.5303 - accuracy: 0.7500\n",
      "Epoch 00004: val_accuracy did not improve from 0.51471\n",
      "20/20 [==============================] - 2s 92ms/step - loss: 0.5303 - accuracy: 0.7500 - val_loss: 2.2720 - val_accuracy: 0.4559\n",
      "Epoch 5/20\n",
      "20/20 [==============================] - ETA: 0s - loss: 0.3105 - accuracy: 0.7658\n",
      "Epoch 00005: val_accuracy did not improve from 0.51471\n",
      "20/20 [==============================] - 2s 92ms/step - loss: 0.3105 - accuracy: 0.7658 - val_loss: 2.1369 - val_accuracy: 0.4412\n",
      "Epoch 6/20\n",
      "20/20 [==============================] - ETA: 0s - loss: 0.1557 - accuracy: 0.8291\n",
      "Epoch 00006: val_accuracy improved from 0.51471 to 0.58088, saving model to model-epoch-006-valacc-0.580882.h5\n",
      "20/20 [==============================] - 2s 96ms/step - loss: 0.1557 - accuracy: 0.8291 - val_loss: 2.1868 - val_accuracy: 0.5809\n",
      "Epoch 7/20\n",
      "20/20 [==============================] - ETA: 0s - loss: 0.0674 - accuracy: 0.9589\n",
      "Epoch 00007: val_accuracy did not improve from 0.58088\n",
      "20/20 [==============================] - 2s 94ms/step - loss: 0.0674 - accuracy: 0.9589 - val_loss: 2.2295 - val_accuracy: 0.5588\n",
      "Epoch 8/20\n",
      "20/20 [==============================] - ETA: 0s - loss: 0.0450 - accuracy: 0.9209\n",
      "Epoch 00008: val_accuracy improved from 0.58088 to 0.58824, saving model to model-epoch-008-valacc-0.588235.h5\n",
      "20/20 [==============================] - 2s 96ms/step - loss: 0.0450 - accuracy: 0.9209 - val_loss: 2.1836 - val_accuracy: 0.5882\n",
      "Epoch 9/20\n",
      "20/20 [==============================] - ETA: 0s - loss: 0.0254 - accuracy: 0.9810\n",
      "Epoch 00009: val_accuracy improved from 0.58824 to 0.59559, saving model to model-epoch-009-valacc-0.595588.h5\n",
      "20/20 [==============================] - 2s 100ms/step - loss: 0.0254 - accuracy: 0.9810 - val_loss: 2.3683 - val_accuracy: 0.5956\n",
      "Epoch 10/20\n",
      "20/20 [==============================] - ETA: 0s - loss: 0.0210 - accuracy: 0.9620\n",
      "Epoch 00010: val_accuracy improved from 0.59559 to 0.66176, saving model to model-epoch-010-valacc-0.661765.h5\n",
      "20/20 [==============================] - 2s 99ms/step - loss: 0.0210 - accuracy: 0.9620 - val_loss: 2.6637 - val_accuracy: 0.6618\n",
      "Epoch 11/20\n",
      "20/20 [==============================] - ETA: 0s - loss: 0.0070 - accuracy: 0.9968\n",
      "Epoch 00011: val_accuracy did not improve from 0.66176\n",
      "20/20 [==============================] - 2s 92ms/step - loss: 0.0070 - accuracy: 0.9968 - val_loss: 2.3179 - val_accuracy: 0.6324\n",
      "Epoch 12/20\n",
      "20/20 [==============================] - ETA: 0s - loss: 0.0040 - accuracy: 0.9968\n",
      "Epoch 00012: val_accuracy did not improve from 0.66176\n",
      "20/20 [==============================] - 2s 93ms/step - loss: 0.0040 - accuracy: 0.9968 - val_loss: 2.4955 - val_accuracy: 0.6544\n",
      "Epoch 13/20\n",
      "20/20 [==============================] - ETA: 0s - loss: 0.0023 - accuracy: 1.0000\n",
      "Epoch 00013: val_accuracy did not improve from 0.66176\n",
      "20/20 [==============================] - 2s 92ms/step - loss: 0.0023 - accuracy: 1.0000 - val_loss: 2.5803 - val_accuracy: 0.6544\n",
      "Epoch 14/20\n",
      "20/20 [==============================] - ETA: 0s - loss: 0.0014 - accuracy: 1.0000\n",
      "Epoch 00014: val_accuracy did not improve from 0.66176\n",
      "20/20 [==============================] - 2s 92ms/step - loss: 0.0014 - accuracy: 1.0000 - val_loss: 2.6713 - val_accuracy: 0.6618\n",
      "Epoch 15/20\n",
      "20/20 [==============================] - ETA: 0s - loss: 0.0012 - accuracy: 1.0000\n",
      "Epoch 00015: val_accuracy did not improve from 0.66176\n",
      "20/20 [==============================] - 2s 91ms/step - loss: 0.0012 - accuracy: 1.0000 - val_loss: 2.7561 - val_accuracy: 0.6618\n",
      "Epoch 16/20\n",
      "20/20 [==============================] - ETA: 0s - loss: 0.0011 - accuracy: 1.0000\n",
      "Epoch 00016: val_accuracy improved from 0.66176 to 0.66912, saving model to model-epoch-016-valacc-0.669118.h5\n",
      "20/20 [==============================] - 2s 98ms/step - loss: 0.0011 - accuracy: 1.0000 - val_loss: 2.8019 - val_accuracy: 0.6691\n",
      "Epoch 17/20\n",
      "20/20 [==============================] - ETA: 0s - loss: 7.7756e-04 - accuracy: 1.0000\n",
      "Epoch 00017: val_accuracy did not improve from 0.66912\n",
      "20/20 [==============================] - 2s 94ms/step - loss: 7.7756e-04 - accuracy: 1.0000 - val_loss: 2.8241 - val_accuracy: 0.6691\n",
      "Epoch 18/20\n",
      "20/20 [==============================] - ETA: 0s - loss: 8.1930e-04 - accuracy: 1.0000\n",
      "Epoch 00018: val_accuracy did not improve from 0.66912\n",
      "20/20 [==============================] - 2s 94ms/step - loss: 8.1930e-04 - accuracy: 1.0000 - val_loss: 2.8774 - val_accuracy: 0.6691\n",
      "Epoch 19/20\n",
      "20/20 [==============================] - ETA: 0s - loss: 6.8462e-04 - accuracy: 1.0000\n",
      "Epoch 00019: val_accuracy did not improve from 0.66912\n",
      "20/20 [==============================] - 2s 92ms/step - loss: 6.8462e-04 - accuracy: 1.0000 - val_loss: 2.9063 - val_accuracy: 0.6691\n",
      "Epoch 20/20\n",
      "20/20 [==============================] - ETA: 0s - loss: 5.4684e-04 - accuracy: 1.0000\n",
      "Epoch 00020: val_accuracy did not improve from 0.66912\n",
      "20/20 [==============================] - 2s 93ms/step - loss: 5.4684e-04 - accuracy: 1.0000 - val_loss: 2.9181 - val_accuracy: 0.6691\n"
     ]
    }
   ],
   "source": [
    "from tensorflow.keras.callbacks import ModelCheckpoint, EarlyStopping\n",
    "batch_size= 16\n",
    "no_epochs = 20\n",
    "\n",
    "earlystop = EarlyStopping(monitor='val_accuracy', patience=20)\n",
    "checkpoint = ModelCheckpoint('model-epoch-{epoch:03d}-valacc-{val_accuracy:03f}.h5', verbose=1, monitor='val_accuracy',save_best_only=True, mode='auto')\n",
    "\n",
    "# Generate the fit model\n",
    "hist = model.fit(Xtrain, Ytrain, \n",
    "                 epochs=no_epochs, \n",
    "                 batch_size=batch_size, \n",
    "                 validation_data=(Xval, Yval),\n",
    "                 callbacks=[earlystop, checkpoint],\n",
    "                 class_weight = class_weights_dict)\n"
   ]
  },
  {
   "cell_type": "code",
   "execution_count": 0,
   "metadata": {
    "colab": {},
    "colab_type": "code",
    "id": "-KJ5cQk-IxdY"
   },
   "outputs": [],
   "source": [
    "!cp model-epoch-010-valacc-0.661765.h5 /content/drive/Shared\\ drives/ALDA\\ Project/ClassWeights/"
   ]
  },
  {
   "cell_type": "markdown",
   "metadata": {
    "colab_type": "text",
    "id": "-n5hUp7vNI2J"
   },
   "source": [
    "#### Visualizing training and validation accuracy"
   ]
  },
  {
   "cell_type": "code",
   "execution_count": 0,
   "metadata": {
    "colab": {
     "base_uri": "https://localhost:8080/",
     "height": 541
    },
    "colab_type": "code",
    "id": "VHtGzd6mNOxd",
    "outputId": "4379b0f4-9471-4b32-c7bf-652def085abd"
   },
   "outputs": [
    {
     "data": {
      "image/png": "[encoded data removed]",
      "text/plain": [
       "<Figure size 432x288 with 1 Axes>"
      ]
     },
     "metadata": {
      "tags": []
     },
     "output_type": "display_data"
    },
    {
     "data": {
      "image/png": "[encoded data removed]",
      "text/plain": [
       "<Figure size 432x288 with 1 Axes>"
      ]
     },
     "metadata": {
      "tags": []
     },
     "output_type": "display_data"
    }
   ],
   "source": [
    "sub=0\n",
    "# visualizing losses and accuracy\n",
    "train_loss = hist.history['loss'][sub:]\n",
    "val_loss = hist.history['val_loss'][sub:]\n",
    "train_accu = hist.history['accuracy'][sub:]\n",
    "val_accu = hist.history['val_accuracy'][sub:]\n",
    "xc = range(len(val_loss))\n",
    "\n",
    "fig1 = plt.figure()\n",
    "fig1.patch.set_facecolor('white')\n",
    "plt.plot(xc, train_loss, label='Training loss')\n",
    "plt.plot(xc, val_loss, label='Validation loss')\n",
    "plt.legend(loc=\"upper right\")\n",
    "plt.xlabel('Epochs')\n",
    "plt.ylabel('Loss')\n",
    "fig1.show()\n",
    "\n",
    "fig2 = plt.figure()\n",
    "fig2.patch.set_facecolor('white')\n",
    "plt.plot(xc, train_accu, label='Training accuracy')\n",
    "plt.plot(xc, val_accu, label='Validation accuracy')\n",
    "plt.legend(loc=\"lower right\")\n",
    "plt.xlabel('Epochs')\n",
    "plt.ylabel('Accuracy')\n",
    "fig2.show()"
   ]
  },
  {
   "cell_type": "markdown",
   "metadata": {
    "colab_type": "text",
    "id": "bQbKuDf6LN2O"
   },
   "source": [
    "### Test Model on the test data"
   ]
  },
  {
   "cell_type": "code",
   "execution_count": 0,
   "metadata": {
    "colab": {
     "base_uri": "https://localhost:8080/",
     "height": 50
    },
    "colab_type": "code",
    "id": "hVeoZK5x23yV",
    "outputId": "8dd46f10-d058-4a11-82b0-49dc0f25027e"
   },
   "outputs": [
    {
     "name": "stdout",
     "output_type": "stream",
     "text": [
      "[ 0 97 13  5  3  2  3  0  0  2 10  0  0  0  0  0  1]\n",
      "[ 0 74 13  4  4  4  8  1  1  3 15  0  0  0  1  1  7]\n"
     ]
    }
   ],
   "source": [
    "!cp /content/drive/Shared\\ drives/ALDA\\ Project/ClassWeights/model-epoch-008-valacc-0.698529.h5 /content/\n",
    "\n",
    "from sklearn.metrics import confusion_matrix, accuracy_score, classification_report\n",
    "from tensorflow import keras\n",
    "\n",
    "model = keras.models.load_model('model-epoch-008-valacc-0.698529.h5')\n",
    "model.load_weights('model-epoch-008-valacc-0.698529.h5')\n",
    "\n",
    "model.save('model-epoch-008-valacc-0.698529.h5')\n",
    "\n",
    "Ypred = model.predict_classes(np.expand_dims(X_test, 2), batch_size=16)\n",
    "print(np.bincount(Ypred))\n",
    "print(np.bincount(Y_test))"
   ]
  },
  {
   "cell_type": "code",
   "execution_count": 0,
   "metadata": {
    "colab": {
     "base_uri": "https://localhost:8080/",
     "height": 453
    },
    "colab_type": "code",
    "id": "HUU6YQ76-rBT",
    "outputId": "737d61d1-f732-48c1-a032-68f4bf4fd050"
   },
   "outputs": [
    {
     "name": "stdout",
     "output_type": "stream",
     "text": [
      "Accuracy of Weighted 1D-CNN model -  0.6985\n",
      "\n",
      "Classification Report for model\n",
      "               precision    recall  f1-score   support\n",
      "\n",
      "           1       0.70      0.92      0.80        74\n",
      "           2       0.54      0.54      0.54        13\n",
      "           3       0.80      1.00      0.89         4\n",
      "           4       1.00      0.75      0.86         4\n",
      "           5       0.50      0.25      0.33         4\n",
      "           6       0.67      0.25      0.36         8\n",
      "           7       0.00      0.00      0.00         1\n",
      "           8       0.00      0.00      0.00         1\n",
      "           9       1.00      0.67      0.80         3\n",
      "          10       0.80      0.53      0.64        15\n",
      "          14       0.00      0.00      0.00         1\n",
      "          15       0.00      0.00      0.00         1\n",
      "          16       0.00      0.00      0.00         7\n",
      "\n",
      "    accuracy                           0.70       136\n",
      "   macro avg       0.46      0.38      0.40       136\n",
      "weighted avg       0.65      0.70      0.66       136\n",
      "\n"
     ]
    },
    {
     "name": "stderr",
     "output_type": "stream",
     "text": [
      "/usr/local/lib/python3.6/dist-packages/sklearn/metrics/_classification.py:1272: UndefinedMetricWarning: Precision and F-score are ill-defined and being set to 0.0 in labels with no predicted samples. Use `zero_division` parameter to control this behavior.\n",
      "  _warn_prf(average, modifier, msg_start, len(result))\n"
     ]
    }
   ],
   "source": [
    "# Compute Confusion matrix and accuracy score\n",
    "print('Accuracy of Weighted 1D-CNN model - ',round(accuracy_score(list(Y_test),Ypred),4))\n",
    "print('\\nClassification Report for model\\n',classification_report(list(Y_test), Ypred))\n",
    "\n",
    "#saving the predictions and probabilities to the Shared directory\n",
    "np.save('ypred_probs_0.6985294117647058.npy', Ypred)\n",
    "!cp *.npy /content/drive/Shared\\ drives/ALDA\\ Project/ClassWeights/"
   ]
  },
  {
   "cell_type": "markdown",
   "metadata": {
    "colab_type": "text",
    "id": "pw5Unmy6swKh"
   },
   "source": [
    "### MLP(Multi Layer Perceptron) Classifier"
   ]
  },
  {
   "cell_type": "markdown",
   "metadata": {
    "colab_type": "text",
    "id": "a5nFZrho3u40"
   },
   "source": [
    "#### Split the data into train and validation"
   ]
  },
  {
   "cell_type": "code",
   "execution_count": 0,
   "metadata": {
    "colab": {
     "base_uri": "https://localhost:8080/",
     "height": 33
    },
    "colab_type": "code",
    "id": "X0rbr8-fm8Cu",
    "outputId": "f7aa4d1e-304f-476e-da69-72477d4c82c0"
   },
   "outputs": [
    {
     "name": "stdout",
     "output_type": "stream",
     "text": [
      "(316, 278) (316, 17) (136, 278) (136, 17)\n"
     ]
    }
   ],
   "source": [
    "X_train_mlp, X_val_mlp, Y_train_mlp, Y_val_mlp = train_test_split(X_train, Y_train, test_size=0.2,  random_state=0)\n",
    "\n",
    "Xtrain = np.array(X_train)\n",
    "Ytrain = to_categorical(Y_train)\n",
    "Xval = np.array(X_test)\n",
    "Yval = to_categorical(Y_test)\n",
    "print(Xtrain.shape,Ytrain.shape,Xval.shape,Yval.shape)"
   ]
  },
  {
   "cell_type": "markdown",
   "metadata": {
    "colab_type": "text",
    "id": "TGGLsb3MKPxO"
   },
   "source": [
    "#### Determining class weights for imbalanced dataset"
   ]
  },
  {
   "cell_type": "code",
   "execution_count": 0,
   "metadata": {
    "colab": {
     "base_uri": "https://localhost:8080/",
     "height": 70
    },
    "colab_type": "code",
    "id": "qyg16zZYKPxw",
    "outputId": "55393953-7aad-498c-83f5-3c14103bc893"
   },
   "outputs": [
    {
     "name": "stdout",
     "output_type": "stream",
     "text": [
      "66.48389473526794\n",
      "{1: 0.14215024741340532, 2: 0.7841191066997518, 3: 2.2097902097902096, 4: 2.2097902097902096, 5: 2.700854700854701, 6: 1.4298642533936652, 7: 12.153846153846153, 8: 24.307692307692307, 9: 4.051282051282051, 10: 0.6945054945054945, 14: 8.102564102564102, 15: 6.076923076923077, 16: 1.6205128205128205, 0: 0, 11: 0, 12: 0, 13: 0}\n"
     ]
    }
   ],
   "source": [
    "from sklearn.utils import class_weight\n",
    "mlp_class_weights = class_weight.compute_class_weight('balanced', np.unique(Y_train), Y_train)\n",
    "mlp_class_weights_dict = dict(zip([1,2,3,4,5,6,7,8,9,10,14,15,16], mlp_class_weights))\n",
    "mlp_class_weights_dict[0] = 0\n",
    "mlp_class_weights_dict[11] = 0\n",
    "mlp_class_weights_dict[12] = 0\n",
    "mlp_class_weights_dict[13] = 0\n",
    "print(mlp_class_weights.sum())\n",
    "print(mlp_class_weights_dict)"
   ]
  },
  {
   "cell_type": "markdown",
   "metadata": {
    "colab_type": "text",
    "id": "lyUXzs-_Oyu6"
   },
   "source": [
    "### delete model h5 files if experiment useless"
   ]
  },
  {
   "cell_type": "code",
   "execution_count": 0,
   "metadata": {
    "colab": {},
    "colab_type": "code",
    "id": "UGds9lYMOyvA"
   },
   "outputs": [],
   "source": [
    "!rm *.h5;"
   ]
  },
  {
   "cell_type": "markdown",
   "metadata": {
    "colab_type": "text",
    "id": "5Jil-2C5OyvG"
   },
   "source": [
    "#### Defining MLP model"
   ]
  },
  {
   "cell_type": "code",
   "execution_count": 0,
   "metadata": {
    "colab": {
     "base_uri": "https://localhost:8080/",
     "height": 250
    },
    "colab_type": "code",
    "id": "BjjVREXiOyvG",
    "outputId": "d4fac68a-c112-4efd-f74e-3751404b8a35"
   },
   "outputs": [
    {
     "name": "stdout",
     "output_type": "stream",
     "text": [
      "Model: \"sequential_4\"\n",
      "_________________________________________________________________\n",
      "Layer (type)                 Output Shape              Param #   \n",
      "=================================================================\n",
      "dense_12 (Dense)             (None, 64)                17856     \n",
      "_________________________________________________________________\n",
      "dense_13 (Dense)             (None, 128)               8320      \n",
      "_________________________________________________________________\n",
      "dense_14 (Dense)             (None, 17)                2193      \n",
      "=================================================================\n",
      "Total params: 28,369\n",
      "Trainable params: 28,369\n",
      "Non-trainable params: 0\n",
      "_________________________________________________________________\n"
     ]
    }
   ],
   "source": [
    "#model\n",
    "model = Sequential()\n",
    "\n",
    "model.add(Dense(units=64,activation='relu',input_shape=(278,)))\n",
    "model.add(Dense(units=128,activation='relu'))\n",
    "model.add(Dense(17, activation='softmax'))\n",
    "model.compile(loss='categorical_crossentropy',\n",
    "              optimizer='Adam',\n",
    "             metrics=['accuracy'])\n",
    "\n",
    "model.summary()"
   ]
  },
  {
   "cell_type": "markdown",
   "metadata": {
    "colab_type": "text",
    "id": "fmJSKC7rVUmG"
   },
   "source": [
    "#### train the model and save best validation accuracy checkpoint"
   ]
  },
  {
   "cell_type": "code",
   "execution_count": 0,
   "metadata": {
    "colab": {
     "base_uri": "https://localhost:8080/",
     "height": 1000
    },
    "colab_type": "code",
    "id": "jBH9Y9YFVUmL",
    "outputId": "dc7487ef-bc6a-4784-80bd-55429dcb3a51"
   },
   "outputs": [
    {
     "name": "stdout",
     "output_type": "stream",
     "text": [
      "Epoch 1/30\n",
      "33/40 [=======================>......] - ETA: 0s - loss: 2.8751 - accuracy: 0.1439    \n",
      "Epoch 00001: val_accuracy improved from -inf to 0.22059, saving model to model-mlp-epoch-001-valacc-0.220588.h5\n",
      "40/40 [==============================] - 0s 5ms/step - loss: 2.7804 - accuracy: 0.1424 - val_loss: 2.3965 - val_accuracy: 0.2206\n",
      "Epoch 2/30\n",
      "33/40 [=======================>......] - ETA: 0s - loss: 1.7659 - accuracy: 0.3523\n",
      "Epoch 00002: val_accuracy improved from 0.22059 to 0.32353, saving model to model-mlp-epoch-002-valacc-0.323529.h5\n",
      "40/40 [==============================] - 0s 3ms/step - loss: 1.6753 - accuracy: 0.3513 - val_loss: 2.1231 - val_accuracy: 0.3235\n",
      "Epoch 3/30\n",
      "33/40 [=======================>......] - ETA: 0s - loss: 1.2188 - accuracy: 0.5189\n",
      "Epoch 00003: val_accuracy improved from 0.32353 to 0.44853, saving model to model-mlp-epoch-003-valacc-0.448529.h5\n",
      "40/40 [==============================] - 0s 4ms/step - loss: 1.1182 - accuracy: 0.5380 - val_loss: 1.8545 - val_accuracy: 0.4485\n",
      "Epoch 4/30\n",
      "33/40 [=======================>......] - ETA: 0s - loss: 0.7652 - accuracy: 0.6288\n",
      "Epoch 00004: val_accuracy improved from 0.44853 to 0.48529, saving model to model-mlp-epoch-004-valacc-0.485294.h5\n",
      "40/40 [==============================] - 0s 3ms/step - loss: 0.7217 - accuracy: 0.6361 - val_loss: 1.6786 - val_accuracy: 0.4853\n",
      "Epoch 5/30\n",
      "34/40 [========================>.....] - ETA: 0s - loss: 0.4789 - accuracy: 0.7279\n",
      "Epoch 00005: val_accuracy improved from 0.48529 to 0.51471, saving model to model-mlp-epoch-005-valacc-0.514706.h5\n",
      "40/40 [==============================] - 0s 3ms/step - loss: 0.5014 - accuracy: 0.7089 - val_loss: 1.6207 - val_accuracy: 0.5147\n",
      "Epoch 6/30\n",
      "32/40 [=======================>......] - ETA: 0s - loss: 0.3725 - accuracy: 0.7422\n",
      "Epoch 00006: val_accuracy improved from 0.51471 to 0.54412, saving model to model-mlp-epoch-006-valacc-0.544118.h5\n",
      "40/40 [==============================] - 0s 3ms/step - loss: 0.3671 - accuracy: 0.7500 - val_loss: 1.5530 - val_accuracy: 0.5441\n",
      "Epoch 7/30\n",
      "34/40 [========================>.....] - ETA: 0s - loss: 0.2730 - accuracy: 0.7941\n",
      "Epoch 00007: val_accuracy improved from 0.54412 to 0.59559, saving model to model-mlp-epoch-007-valacc-0.595588.h5\n",
      "40/40 [==============================] - 0s 3ms/step - loss: 0.2735 - accuracy: 0.7911 - val_loss: 1.4905 - val_accuracy: 0.5956\n",
      "Epoch 8/30\n",
      "35/40 [=========================>....] - ETA: 0s - loss: 0.2129 - accuracy: 0.8500\n",
      "Epoch 00008: val_accuracy did not improve from 0.59559\n",
      "40/40 [==============================] - 0s 3ms/step - loss: 0.2137 - accuracy: 0.8418 - val_loss: 1.5026 - val_accuracy: 0.5882\n",
      "Epoch 9/30\n",
      "36/40 [==========================>...] - ETA: 0s - loss: 0.1687 - accuracy: 0.8958\n",
      "Epoch 00009: val_accuracy did not improve from 0.59559\n",
      "40/40 [==============================] - 0s 3ms/step - loss: 0.1697 - accuracy: 0.8766 - val_loss: 1.4571 - val_accuracy: 0.5956\n",
      "Epoch 10/30\n",
      "32/40 [=======================>......] - ETA: 0s - loss: 0.1306 - accuracy: 0.9062\n",
      "Epoch 00010: val_accuracy improved from 0.59559 to 0.60294, saving model to model-mlp-epoch-010-valacc-0.602941.h5\n",
      "40/40 [==============================] - 0s 3ms/step - loss: 0.1426 - accuracy: 0.8987 - val_loss: 1.4985 - val_accuracy: 0.6029\n",
      "Epoch 11/30\n",
      "34/40 [========================>.....] - ETA: 0s - loss: 0.1128 - accuracy: 0.8971\n",
      "Epoch 00011: val_accuracy did not improve from 0.60294\n",
      "40/40 [==============================] - 0s 3ms/step - loss: 0.1124 - accuracy: 0.9019 - val_loss: 1.4452 - val_accuracy: 0.6029\n",
      "Epoch 12/30\n",
      "33/40 [=======================>......] - ETA: 0s - loss: 0.0929 - accuracy: 0.9432\n",
      "Epoch 00012: val_accuracy did not improve from 0.60294\n",
      "40/40 [==============================] - 0s 3ms/step - loss: 0.0917 - accuracy: 0.9304 - val_loss: 1.4796 - val_accuracy: 0.5882\n",
      "Epoch 13/30\n",
      "33/40 [=======================>......] - ETA: 0s - loss: 0.0779 - accuracy: 0.9470\n",
      "Epoch 00013: val_accuracy improved from 0.60294 to 0.62500, saving model to model-mlp-epoch-013-valacc-0.625000.h5\n",
      "40/40 [==============================] - 0s 3ms/step - loss: 0.0756 - accuracy: 0.9462 - val_loss: 1.4680 - val_accuracy: 0.6250\n",
      "Epoch 14/30\n",
      "35/40 [=========================>....] - ETA: 0s - loss: 0.0645 - accuracy: 0.9464\n",
      "Epoch 00014: val_accuracy improved from 0.62500 to 0.63971, saving model to model-mlp-epoch-014-valacc-0.639706.h5\n",
      "40/40 [==============================] - 0s 3ms/step - loss: 0.0633 - accuracy: 0.9462 - val_loss: 1.4805 - val_accuracy: 0.6397\n",
      "Epoch 15/30\n",
      "33/40 [=======================>......] - ETA: 0s - loss: 0.0541 - accuracy: 0.9470\n",
      "Epoch 00015: val_accuracy did not improve from 0.63971\n",
      "40/40 [==============================] - 0s 3ms/step - loss: 0.0540 - accuracy: 0.9494 - val_loss: 1.4901 - val_accuracy: 0.6324\n",
      "Epoch 16/30\n",
      "34/40 [========================>.....] - ETA: 0s - loss: 0.0457 - accuracy: 0.9632\n",
      "Epoch 00016: val_accuracy improved from 0.63971 to 0.64706, saving model to model-mlp-epoch-016-valacc-0.647059.h5\n",
      "40/40 [==============================] - 0s 3ms/step - loss: 0.0462 - accuracy: 0.9684 - val_loss: 1.5020 - val_accuracy: 0.6471\n",
      "Epoch 17/30\n",
      "34/40 [========================>.....] - ETA: 0s - loss: 0.0379 - accuracy: 0.9669\n",
      "Epoch 00017: val_accuracy did not improve from 0.64706\n",
      "40/40 [==============================] - 0s 3ms/step - loss: 0.0403 - accuracy: 0.9652 - val_loss: 1.5295 - val_accuracy: 0.6397\n",
      "Epoch 18/30\n",
      "33/40 [=======================>......] - ETA: 0s - loss: 0.0335 - accuracy: 0.9735\n",
      "Epoch 00018: val_accuracy did not improve from 0.64706\n",
      "40/40 [==============================] - 0s 3ms/step - loss: 0.0347 - accuracy: 0.9778 - val_loss: 1.5405 - val_accuracy: 0.6471\n",
      "Epoch 19/30\n",
      "34/40 [========================>.....] - ETA: 0s - loss: 0.0287 - accuracy: 0.9816\n",
      "Epoch 00019: val_accuracy improved from 0.64706 to 0.65441, saving model to model-mlp-epoch-019-valacc-0.654412.h5\n",
      "40/40 [==============================] - 0s 3ms/step - loss: 0.0304 - accuracy: 0.9747 - val_loss: 1.5717 - val_accuracy: 0.6544\n",
      "Epoch 20/30\n",
      "27/40 [===================>..........] - ETA: 0s - loss: 0.0242 - accuracy: 0.9861\n",
      "Epoch 00020: val_accuracy did not improve from 0.65441\n",
      "40/40 [==============================] - 0s 3ms/step - loss: 0.0266 - accuracy: 0.9842 - val_loss: 1.5956 - val_accuracy: 0.6471\n",
      "Epoch 21/30\n",
      "36/40 [==========================>...] - ETA: 0s - loss: 0.0240 - accuracy: 0.9792\n",
      "Epoch 00021: val_accuracy improved from 0.65441 to 0.66176, saving model to model-mlp-epoch-021-valacc-0.661765.h5\n",
      "40/40 [==============================] - 0s 3ms/step - loss: 0.0234 - accuracy: 0.9810 - val_loss: 1.6128 - val_accuracy: 0.6618\n",
      "Epoch 22/30\n",
      "36/40 [==========================>...] - ETA: 0s - loss: 0.0207 - accuracy: 0.9896\n",
      "Epoch 00022: val_accuracy did not improve from 0.66176\n",
      "40/40 [==============================] - 0s 3ms/step - loss: 0.0207 - accuracy: 0.9905 - val_loss: 1.6466 - val_accuracy: 0.6397\n",
      "Epoch 23/30\n",
      "34/40 [========================>.....] - ETA: 0s - loss: 0.0177 - accuracy: 0.9853\n",
      "Epoch 00023: val_accuracy did not improve from 0.66176\n",
      "40/40 [==============================] - 0s 3ms/step - loss: 0.0176 - accuracy: 0.9873 - val_loss: 1.6698 - val_accuracy: 0.6471\n",
      "Epoch 24/30\n",
      "35/40 [=========================>....] - ETA: 0s - loss: 0.0154 - accuracy: 0.9929\n",
      "Epoch 00024: val_accuracy did not improve from 0.66176\n",
      "40/40 [==============================] - 0s 3ms/step - loss: 0.0158 - accuracy: 0.9937 - val_loss: 1.7027 - val_accuracy: 0.6397\n",
      "Epoch 25/30\n",
      "30/40 [=====================>........] - ETA: 0s - loss: 0.0125 - accuracy: 1.0000\n",
      "Epoch 00025: val_accuracy did not improve from 0.66176\n",
      "40/40 [==============================] - 0s 3ms/step - loss: 0.0139 - accuracy: 0.9937 - val_loss: 1.7170 - val_accuracy: 0.6544\n",
      "Epoch 26/30\n",
      "32/40 [=======================>......] - ETA: 0s - loss: 0.0113 - accuracy: 1.0000\n",
      "Epoch 00026: val_accuracy did not improve from 0.66176\n",
      "40/40 [==============================] - 0s 3ms/step - loss: 0.0123 - accuracy: 0.9968 - val_loss: 1.7418 - val_accuracy: 0.6544\n",
      "Epoch 27/30\n",
      "31/40 [======================>.......] - ETA: 0s - loss: 0.0107 - accuracy: 0.9960\n",
      "Epoch 00027: val_accuracy did not improve from 0.66176\n",
      "40/40 [==============================] - 0s 3ms/step - loss: 0.0108 - accuracy: 0.9968 - val_loss: 1.7672 - val_accuracy: 0.6544\n",
      "Epoch 28/30\n",
      "35/40 [=========================>....] - ETA: 0s - loss: 0.0094 - accuracy: 1.0000\n",
      "Epoch 00028: val_accuracy did not improve from 0.66176\n",
      "40/40 [==============================] - 0s 3ms/step - loss: 0.0096 - accuracy: 1.0000 - val_loss: 1.7981 - val_accuracy: 0.6544\n",
      "Epoch 29/30\n",
      "30/40 [=====================>........] - ETA: 0s - loss: 0.0084 - accuracy: 1.0000\n",
      "Epoch 00029: val_accuracy did not improve from 0.66176\n",
      "40/40 [==============================] - 0s 3ms/step - loss: 0.0090 - accuracy: 1.0000 - val_loss: 1.8152 - val_accuracy: 0.6471\n",
      "Epoch 30/30\n",
      "33/40 [=======================>......] - ETA: 0s - loss: 0.0079 - accuracy: 1.0000\n",
      "Epoch 00030: val_accuracy did not improve from 0.66176\n",
      "40/40 [==============================] - 0s 3ms/step - loss: 0.0078 - accuracy: 1.0000 - val_loss: 1.8331 - val_accuracy: 0.6471\n"
     ]
    }
   ],
   "source": [
    "from tensorflow.keras.callbacks import ModelCheckpoint, EarlyStopping\n",
    "batch_size= 8\n",
    "no_epochs = 30\n",
    "\n",
    "earlystop = EarlyStopping(monitor='val_accuracy', patience=20)\n",
    "checkpoint = ModelCheckpoint('model-mlp-epoch-{epoch:03d}-valacc-{val_accuracy:03f}.h5', verbose=1, monitor='val_accuracy',save_best_only=True, mode='auto')\n",
    "\n",
    "# Generate the fit model\n",
    "hist = model.fit(Xtrain, Ytrain, \n",
    "                 epochs=no_epochs, \n",
    "                 batch_size=batch_size, \n",
    "                 validation_data=(Xval, Yval),\n",
    "                 callbacks=[earlystop, checkpoint],\n",
    "                 class_weight = mlp_class_weights_dict)"
   ]
  },
  {
   "cell_type": "code",
   "execution_count": 0,
   "metadata": {
    "colab": {
     "base_uri": "https://localhost:8080/",
     "height": 33
    },
    "colab_type": "code",
    "id": "vJL05vQbuBaT",
    "outputId": "0412bfed-2d2f-4f8a-e3c7-49081cdf37e2"
   },
   "outputs": [
    {
     "name": "stdout",
     "output_type": "stream",
     "text": [
      "cp: cannot stat 'model-mlp-epoch-019-valacc-0.669118.h5': No such file or directory\n"
     ]
    }
   ],
   "source": [
    "!cp model-mlp-epoch-019-valacc-0.669118.h5 /content/drive/Shared\\ drives/ALDA\\ Project/ClassWeights/"
   ]
  },
  {
   "cell_type": "markdown",
   "metadata": {
    "colab_type": "text",
    "id": "G6EMhaoJaO4g"
   },
   "source": [
    "#### Visualizing training and validation accuracy"
   ]
  },
  {
   "cell_type": "code",
   "execution_count": 0,
   "metadata": {
    "colab": {
     "base_uri": "https://localhost:8080/",
     "height": 541
    },
    "colab_type": "code",
    "id": "pqfLJOMmaO4h",
    "outputId": "a7705b34-86b8-4901-f003-5778f197f0f2"
   },
   "outputs": [
    {
     "data": {
      "image/png": "[encoded data removed]",
      "text/plain": [
       "<Figure size 432x288 with 1 Axes>"
      ]
     },
     "metadata": {
      "tags": []
     },
     "output_type": "display_data"
    },
    {
     "data": {
      "image/png": "[encoded data removed]",
      "text/plain": [
       "<Figure size 432x288 with 1 Axes>"
      ]
     },
     "metadata": {
      "tags": []
     },
     "output_type": "display_data"
    }
   ],
   "source": [
    "sub=0\n",
    "# visualizing losses and accuracy\n",
    "train_loss = hist.history['loss'][sub:]\n",
    "val_loss = hist.history['val_loss'][sub:]\n",
    "train_accu = hist.history['accuracy'][sub:]\n",
    "val_accu = hist.history['val_accuracy'][sub:]\n",
    "xc = range(no_epochs)\n",
    "\n",
    "fig1 = plt.figure()\n",
    "fig1.patch.set_facecolor('white')\n",
    "plt.plot(xc, train_loss, label='Training loss')\n",
    "plt.plot(xc, val_loss, label='Validation loss')\n",
    "plt.legend(loc=\"upper right\")\n",
    "plt.xlabel('Epochs')\n",
    "plt.ylabel('Loss')\n",
    "fig1.show()\n",
    "\n",
    "fig2 = plt.figure()\n",
    "fig2.patch.set_facecolor('white')\n",
    "plt.plot(xc, train_accu, label='Training accuracy')\n",
    "plt.plot(xc, val_accu, label='Validation accuracy')\n",
    "plt.legend(loc=\"lower right\")\n",
    "plt.xlabel('Epochs')\n",
    "plt.ylabel('Accuracy')\n",
    "fig2.show()"
   ]
  },
  {
   "cell_type": "markdown",
   "metadata": {
    "colab_type": "text",
    "id": "nCHAvVmbupT6"
   },
   "source": [
    "### Test Model on the test data"
   ]
  },
  {
   "cell_type": "code",
   "execution_count": 0,
   "metadata": {
    "colab": {
     "base_uri": "https://localhost:8080/",
     "height": 120
    },
    "colab_type": "code",
    "id": "5lON3Z5yupT7",
    "outputId": "c8f1375b-11ea-4fd8-9d7c-358dbaeb5516"
   },
   "outputs": [
    {
     "name": "stdout",
     "output_type": "stream",
     "text": [
      "WARNING:tensorflow:From <ipython-input-8-398004267ae7>:11: Sequential.predict_classes (from tensorflow.python.keras.engine.sequential) is deprecated and will be removed after 2021-01-01.\n",
      "Instructions for updating:\n",
      "Please use instead:* `np.argmax(model.predict(x), axis=-1)`,   if your model does multi-class classification   (e.g. if it uses a `softmax` last-layer activation).* `(model.predict(x) > 0.5).astype(\"int32\")`,   if your model does binary classification   (e.g. if it uses a `sigmoid` last-layer activation).\n",
      "[ 0 85 15  5  4  3  7  0  0  2  8  0  0  0  1  2  4]\n",
      "[ 0 74 13  4  4  4  8  1  1  3 15  0  0  0  1  1  7]\n"
     ]
    }
   ],
   "source": [
    "!cp /content/drive/Shared\\ drives/ALDA\\ Project/ClassWeights/model-mlp-epoch-019-valacc-0.669118.h5 /content/\n",
    "\n",
    "from sklearn.metrics import confusion_matrix, accuracy_score, classification_report\n",
    "from tensorflow import keras\n",
    "\n",
    "model = keras.models.load_model('model-mlp-epoch-019-valacc-0.669118.h5')\n",
    "model.load_weights('model-mlp-epoch-019-valacc-0.669118.h5')\n",
    "\n",
    "model.save('model-mlp-epoch-019-valacc-0.669118.h5')\n",
    "\n",
    "Ypred = model.predict_classes(X_test, batch_size=16)\n",
    "print(np.bincount(Ypred))\n",
    "print(np.bincount(Y_test))"
   ]
  },
  {
   "cell_type": "code",
   "execution_count": 0,
   "metadata": {
    "colab": {
     "base_uri": "https://localhost:8080/",
     "height": 453
    },
    "colab_type": "code",
    "id": "NLE3IX_PupT-",
    "outputId": "7cf71bd4-73da-4681-d85a-236f7d85dac9"
   },
   "outputs": [
    {
     "name": "stdout",
     "output_type": "stream",
     "text": [
      "Accuracy of Weighted MLP model -  0.6691\n",
      "\n",
      "Classification Report for model\n",
      "               precision    recall  f1-score   support\n",
      "\n",
      "           1       0.74      0.85      0.79        74\n",
      "           2       0.40      0.46      0.43        13\n",
      "           3       0.80      1.00      0.89         4\n",
      "           4       0.75      0.75      0.75         4\n",
      "           5       0.67      0.50      0.57         4\n",
      "           6       0.43      0.38      0.40         8\n",
      "           7       0.00      0.00      0.00         1\n",
      "           8       0.00      0.00      0.00         1\n",
      "           9       1.00      0.67      0.80         3\n",
      "          10       0.75      0.40      0.52        15\n",
      "          14       1.00      1.00      1.00         1\n",
      "          15       0.50      1.00      0.67         1\n",
      "          16       0.00      0.00      0.00         7\n",
      "\n",
      "    accuracy                           0.67       136\n",
      "   macro avg       0.54      0.54      0.52       136\n",
      "weighted avg       0.65      0.67      0.65       136\n",
      "\n"
     ]
    },
    {
     "name": "stderr",
     "output_type": "stream",
     "text": [
      "/usr/local/lib/python3.6/dist-packages/sklearn/metrics/_classification.py:1272: UndefinedMetricWarning: Precision and F-score are ill-defined and being set to 0.0 in labels with no predicted samples. Use `zero_division` parameter to control this behavior.\n",
      "  _warn_prf(average, modifier, msg_start, len(result))\n"
     ]
    }
   ],
   "source": [
    "# Compute Confusion matrix and accuracy score\n",
    "print('Accuracy of Weighted MLP model - ',round(accuracy_score(list(Y_test),Ypred),4))\n",
    "cm = confusion_matrix(list(Y_test), Ypred)\n",
    "print('\\nClassification Report for model\\n',classification_report(list(Y_test),Ypred))\n",
    "\n",
    "#saving the predictions and probabilities to the Shared directory\n",
    "np.save('ypred_mlp_probs_0.6691.npy', Ypred)\n",
    "!cp *.npy /content/drive/Shared\\ drives/ALDA\\ Project/ClassWeights/"
   ]
  }
 ],
 "metadata": {
  "colab": {
   "collapsed_sections": [],
   "name": "Arrhythmia_Classification .ipynb",
   "provenance": []
  },
  "kernelspec": {
   "display_name": "Python 3",
   "language": "python",
   "name": "python3"
  },
  "language_info": {
   "codemirror_mode": {
    "name": "ipython",
    "version": 3
   },
   "file_extension": ".py",
   "mimetype": "text/x-python",
   "name": "python",
   "nbconvert_exporter": "python",
   "pygments_lexer": "ipython3",
   "version": "3.7.4"
  }
 },
 "nbformat": 4,
 "nbformat_minor": 1
}
